{
  "cells": [
    {
      "cell_type": "code",
      "execution_count": 1,
      "metadata": {
        "colab": {
          "base_uri": "https://localhost:8080/"
        },
        "id": "ZO0efz7FKcNH",
        "outputId": "d985f2b1-a746-4e5d-ffaf-b7ab0f57c9d2"
      },
      "outputs": [
        {
          "output_type": "stream",
          "name": "stdout",
          "text": [
            "Mounted at /content/drive\n"
          ]
        }
      ],
      "source": [
        "from google.colab import drive\n",
        "drive.mount('/content/drive')"
      ]
    },
    {
      "cell_type": "code",
      "execution_count": 2,
      "metadata": {
        "colab": {
          "base_uri": "https://localhost:8080/"
        },
        "id": "34Sj6CEbxsHH",
        "outputId": "70e21cc1-b4bd-46d3-d162-2287315b5dcb"
      },
      "outputs": [
        {
          "output_type": "stream",
          "name": "stdout",
          "text": [
            "Looking in indexes: https://pypi.org/simple, https://us-python.pkg.dev/colab-wheels/public/simple/\n",
            "Collecting stellargraph\n",
            "  Downloading stellargraph-1.2.1-py3-none-any.whl (435 kB)\n",
            "\u001b[K     |████████████████████████████████| 435 kB 7.7 MB/s \n",
            "\u001b[?25hRequirement already satisfied: scikit-learn>=0.20 in /usr/local/lib/python3.8/dist-packages (from stellargraph) (1.0.2)\n",
            "Requirement already satisfied: scipy>=1.1.0 in /usr/local/lib/python3.8/dist-packages (from stellargraph) (1.7.3)\n",
            "Requirement already satisfied: tensorflow>=2.1.0 in /usr/local/lib/python3.8/dist-packages (from stellargraph) (2.9.2)\n",
            "Requirement already satisfied: matplotlib>=2.2 in /usr/local/lib/python3.8/dist-packages (from stellargraph) (3.2.2)\n",
            "Requirement already satisfied: networkx>=2.2 in /usr/local/lib/python3.8/dist-packages (from stellargraph) (2.6.3)\n",
            "Requirement already satisfied: gensim>=3.4.0 in /usr/local/lib/python3.8/dist-packages (from stellargraph) (3.6.0)\n",
            "Requirement already satisfied: numpy>=1.14 in /usr/local/lib/python3.8/dist-packages (from stellargraph) (1.21.6)\n",
            "Requirement already satisfied: pandas>=0.24 in /usr/local/lib/python3.8/dist-packages (from stellargraph) (1.3.5)\n",
            "Requirement already satisfied: six>=1.5.0 in /usr/local/lib/python3.8/dist-packages (from gensim>=3.4.0->stellargraph) (1.15.0)\n",
            "Requirement already satisfied: smart-open>=1.2.1 in /usr/local/lib/python3.8/dist-packages (from gensim>=3.4.0->stellargraph) (5.2.1)\n",
            "Requirement already satisfied: kiwisolver>=1.0.1 in /usr/local/lib/python3.8/dist-packages (from matplotlib>=2.2->stellargraph) (1.4.4)\n",
            "Requirement already satisfied: python-dateutil>=2.1 in /usr/local/lib/python3.8/dist-packages (from matplotlib>=2.2->stellargraph) (2.8.2)\n",
            "Requirement already satisfied: pyparsing!=2.0.4,!=2.1.2,!=2.1.6,>=2.0.1 in /usr/local/lib/python3.8/dist-packages (from matplotlib>=2.2->stellargraph) (3.0.9)\n",
            "Requirement already satisfied: cycler>=0.10 in /usr/local/lib/python3.8/dist-packages (from matplotlib>=2.2->stellargraph) (0.11.0)\n",
            "Requirement already satisfied: pytz>=2017.3 in /usr/local/lib/python3.8/dist-packages (from pandas>=0.24->stellargraph) (2022.6)\n",
            "Requirement already satisfied: threadpoolctl>=2.0.0 in /usr/local/lib/python3.8/dist-packages (from scikit-learn>=0.20->stellargraph) (3.1.0)\n",
            "Requirement already satisfied: joblib>=0.11 in /usr/local/lib/python3.8/dist-packages (from scikit-learn>=0.20->stellargraph) (1.2.0)\n",
            "Requirement already satisfied: tensorflow-estimator<2.10.0,>=2.9.0rc0 in /usr/local/lib/python3.8/dist-packages (from tensorflow>=2.1.0->stellargraph) (2.9.0)\n",
            "Requirement already satisfied: protobuf<3.20,>=3.9.2 in /usr/local/lib/python3.8/dist-packages (from tensorflow>=2.1.0->stellargraph) (3.19.6)\n",
            "Requirement already satisfied: termcolor>=1.1.0 in /usr/local/lib/python3.8/dist-packages (from tensorflow>=2.1.0->stellargraph) (2.1.1)\n",
            "Requirement already satisfied: setuptools in /usr/local/lib/python3.8/dist-packages (from tensorflow>=2.1.0->stellargraph) (57.4.0)\n",
            "Requirement already satisfied: flatbuffers<2,>=1.12 in /usr/local/lib/python3.8/dist-packages (from tensorflow>=2.1.0->stellargraph) (1.12)\n",
            "Requirement already satisfied: keras-preprocessing>=1.1.1 in /usr/local/lib/python3.8/dist-packages (from tensorflow>=2.1.0->stellargraph) (1.1.2)\n",
            "Requirement already satisfied: tensorflow-io-gcs-filesystem>=0.23.1 in /usr/local/lib/python3.8/dist-packages (from tensorflow>=2.1.0->stellargraph) (0.28.0)\n",
            "Requirement already satisfied: astunparse>=1.6.0 in /usr/local/lib/python3.8/dist-packages (from tensorflow>=2.1.0->stellargraph) (1.6.3)\n",
            "Requirement already satisfied: google-pasta>=0.1.1 in /usr/local/lib/python3.8/dist-packages (from tensorflow>=2.1.0->stellargraph) (0.2.0)\n",
            "Requirement already satisfied: packaging in /usr/local/lib/python3.8/dist-packages (from tensorflow>=2.1.0->stellargraph) (21.3)\n",
            "Requirement already satisfied: typing-extensions>=3.6.6 in /usr/local/lib/python3.8/dist-packages (from tensorflow>=2.1.0->stellargraph) (4.1.1)\n",
            "Requirement already satisfied: keras<2.10.0,>=2.9.0rc0 in /usr/local/lib/python3.8/dist-packages (from tensorflow>=2.1.0->stellargraph) (2.9.0)\n",
            "Requirement already satisfied: h5py>=2.9.0 in /usr/local/lib/python3.8/dist-packages (from tensorflow>=2.1.0->stellargraph) (3.1.0)\n",
            "Requirement already satisfied: opt-einsum>=2.3.2 in /usr/local/lib/python3.8/dist-packages (from tensorflow>=2.1.0->stellargraph) (3.3.0)\n",
            "Requirement already satisfied: tensorboard<2.10,>=2.9 in /usr/local/lib/python3.8/dist-packages (from tensorflow>=2.1.0->stellargraph) (2.9.1)\n",
            "Requirement already satisfied: gast<=0.4.0,>=0.2.1 in /usr/local/lib/python3.8/dist-packages (from tensorflow>=2.1.0->stellargraph) (0.4.0)\n",
            "Requirement already satisfied: grpcio<2.0,>=1.24.3 in /usr/local/lib/python3.8/dist-packages (from tensorflow>=2.1.0->stellargraph) (1.50.0)\n",
            "Requirement already satisfied: wrapt>=1.11.0 in /usr/local/lib/python3.8/dist-packages (from tensorflow>=2.1.0->stellargraph) (1.14.1)\n",
            "Requirement already satisfied: absl-py>=1.0.0 in /usr/local/lib/python3.8/dist-packages (from tensorflow>=2.1.0->stellargraph) (1.3.0)\n",
            "Requirement already satisfied: libclang>=13.0.0 in /usr/local/lib/python3.8/dist-packages (from tensorflow>=2.1.0->stellargraph) (14.0.6)\n",
            "Requirement already satisfied: wheel<1.0,>=0.23.0 in /usr/local/lib/python3.8/dist-packages (from astunparse>=1.6.0->tensorflow>=2.1.0->stellargraph) (0.38.4)\n",
            "Requirement already satisfied: tensorboard-data-server<0.7.0,>=0.6.0 in /usr/local/lib/python3.8/dist-packages (from tensorboard<2.10,>=2.9->tensorflow>=2.1.0->stellargraph) (0.6.1)\n",
            "Requirement already satisfied: google-auth<3,>=1.6.3 in /usr/local/lib/python3.8/dist-packages (from tensorboard<2.10,>=2.9->tensorflow>=2.1.0->stellargraph) (2.14.1)\n",
            "Requirement already satisfied: tensorboard-plugin-wit>=1.6.0 in /usr/local/lib/python3.8/dist-packages (from tensorboard<2.10,>=2.9->tensorflow>=2.1.0->stellargraph) (1.8.1)\n",
            "Requirement already satisfied: requests<3,>=2.21.0 in /usr/local/lib/python3.8/dist-packages (from tensorboard<2.10,>=2.9->tensorflow>=2.1.0->stellargraph) (2.23.0)\n",
            "Requirement already satisfied: google-auth-oauthlib<0.5,>=0.4.1 in /usr/local/lib/python3.8/dist-packages (from tensorboard<2.10,>=2.9->tensorflow>=2.1.0->stellargraph) (0.4.6)\n",
            "Requirement already satisfied: werkzeug>=1.0.1 in /usr/local/lib/python3.8/dist-packages (from tensorboard<2.10,>=2.9->tensorflow>=2.1.0->stellargraph) (1.0.1)\n",
            "Requirement already satisfied: markdown>=2.6.8 in /usr/local/lib/python3.8/dist-packages (from tensorboard<2.10,>=2.9->tensorflow>=2.1.0->stellargraph) (3.4.1)\n",
            "Requirement already satisfied: cachetools<6.0,>=2.0.0 in /usr/local/lib/python3.8/dist-packages (from google-auth<3,>=1.6.3->tensorboard<2.10,>=2.9->tensorflow>=2.1.0->stellargraph) (5.2.0)\n",
            "Requirement already satisfied: rsa<5,>=3.1.4 in /usr/local/lib/python3.8/dist-packages (from google-auth<3,>=1.6.3->tensorboard<2.10,>=2.9->tensorflow>=2.1.0->stellargraph) (4.9)\n",
            "Requirement already satisfied: pyasn1-modules>=0.2.1 in /usr/local/lib/python3.8/dist-packages (from google-auth<3,>=1.6.3->tensorboard<2.10,>=2.9->tensorflow>=2.1.0->stellargraph) (0.2.8)\n",
            "Requirement already satisfied: requests-oauthlib>=0.7.0 in /usr/local/lib/python3.8/dist-packages (from google-auth-oauthlib<0.5,>=0.4.1->tensorboard<2.10,>=2.9->tensorflow>=2.1.0->stellargraph) (1.3.1)\n",
            "Requirement already satisfied: importlib-metadata>=4.4 in /usr/local/lib/python3.8/dist-packages (from markdown>=2.6.8->tensorboard<2.10,>=2.9->tensorflow>=2.1.0->stellargraph) (4.13.0)\n",
            "Requirement already satisfied: zipp>=0.5 in /usr/local/lib/python3.8/dist-packages (from importlib-metadata>=4.4->markdown>=2.6.8->tensorboard<2.10,>=2.9->tensorflow>=2.1.0->stellargraph) (3.10.0)\n",
            "Requirement already satisfied: pyasn1<0.5.0,>=0.4.6 in /usr/local/lib/python3.8/dist-packages (from pyasn1-modules>=0.2.1->google-auth<3,>=1.6.3->tensorboard<2.10,>=2.9->tensorflow>=2.1.0->stellargraph) (0.4.8)\n",
            "Requirement already satisfied: certifi>=2017.4.17 in /usr/local/lib/python3.8/dist-packages (from requests<3,>=2.21.0->tensorboard<2.10,>=2.9->tensorflow>=2.1.0->stellargraph) (2022.9.24)\n",
            "Requirement already satisfied: idna<3,>=2.5 in /usr/local/lib/python3.8/dist-packages (from requests<3,>=2.21.0->tensorboard<2.10,>=2.9->tensorflow>=2.1.0->stellargraph) (2.10)\n",
            "Requirement already satisfied: urllib3!=1.25.0,!=1.25.1,<1.26,>=1.21.1 in /usr/local/lib/python3.8/dist-packages (from requests<3,>=2.21.0->tensorboard<2.10,>=2.9->tensorflow>=2.1.0->stellargraph) (1.24.3)\n",
            "Requirement already satisfied: chardet<4,>=3.0.2 in /usr/local/lib/python3.8/dist-packages (from requests<3,>=2.21.0->tensorboard<2.10,>=2.9->tensorflow>=2.1.0->stellargraph) (3.0.4)\n",
            "Requirement already satisfied: oauthlib>=3.0.0 in /usr/local/lib/python3.8/dist-packages (from requests-oauthlib>=0.7.0->google-auth-oauthlib<0.5,>=0.4.1->tensorboard<2.10,>=2.9->tensorflow>=2.1.0->stellargraph) (3.2.2)\n",
            "Installing collected packages: stellargraph\n",
            "Successfully installed stellargraph-1.2.1\n",
            "Looking in indexes: https://pypi.org/simple, https://us-python.pkg.dev/colab-wheels/public/simple/\n",
            "Requirement already satisfied: pyyaml in /usr/local/lib/python3.8/dist-packages (6.0)\n",
            "Requirement already satisfied: h5py in /usr/local/lib/python3.8/dist-packages (3.1.0)\n",
            "Requirement already satisfied: numpy>=1.17.5 in /usr/local/lib/python3.8/dist-packages (from h5py) (1.21.6)\n"
          ]
        }
      ],
      "source": [
        "#installs\n",
        "\n",
        "!pip install stellargraph\n",
        "!pip install pyyaml h5py"
      ]
    },
    {
      "cell_type": "code",
      "execution_count": 3,
      "metadata": {
        "id": "OrtnMu3bNDm4"
      },
      "outputs": [],
      "source": [
        "#imports \n",
        "\n",
        "from stellargraph import StellarGraph\n",
        "import stellargraph as sg\n",
        "from stellargraph.mapper import PaddedGraphGenerator\n",
        "from stellargraph.layer import GCNSupervisedGraphClassification, DeepGraphCNN\n",
        "import pandas as pd\n",
        "import os\n",
        "import numpy as np\n",
        "import networkx as nx\n",
        "import matplotlib.pyplot as plt\n",
        "from sklearn.preprocessing import StandardScaler\n",
        "from sklearn import model_selection\n",
        "from IPython.display import display, HTML\n",
        "import matplotlib.pyplot as plt\n",
        "import numpy as np\n",
        "import math\n",
        "from tensorflow.keras import Model\n",
        "from tensorflow.keras.optimizers import Adam, SGD\n",
        "from tensorflow.keras.layers import Dense, Conv1D, MaxPool1D, Dropout, Flatten\n",
        "from tensorflow.keras.callbacks import EarlyStopping\n",
        "from tensorflow.keras.layers import Dense\n",
        "from tensorflow.keras.losses import binary_crossentropy\n",
        "import tensorflow as tf\n",
        "from tensorflow import keras\n",
        "from sklearn.metrics import f1_score, precision_score, confusion_matrix, classification_report, confusion_matrix, ConfusionMatrixDisplay, roc_auc_score\n",
        "import warnings\n",
        "warnings.filterwarnings(\"ignore\")"
      ]
    },
    {
      "cell_type": "markdown",
      "metadata": {
        "id": "w3bnXeuXM_am"
      },
      "source": [
        "Creating custom graph dataset"
      ]
    },
    {
      "cell_type": "code",
      "execution_count": 4,
      "metadata": {
        "id": "s51S4IlaPnle"
      },
      "outputs": [],
      "source": [
        "combined_phenotype='/content/drive/MyDrive/Capstone/COMBINED DATA/phenotypic_data.csv'\n",
        "aug2_label = '/content/drive/MyDrive/Capstone/COMBINED DATA/aug2_labels.csv'\n",
        "labels_mappings= pd.read_csv(combined_phenotype)\n",
        "aug2_labels = pd.read_csv(aug2_label)"
      ]
    },
    {
      "cell_type": "code",
      "execution_count": 5,
      "metadata": {
        "id": "4DazwG5AQoUn"
      },
      "outputs": [],
      "source": [
        "def row_transform(arr, threshold):\n",
        "  for i in range(len(arr)):\n",
        "      arr[i] = arr[i] if arr[i]> threshold else abs(arr[i])+0.0001\n",
        "  return arr\n",
        "\n",
        "def binarize(df, threshold):\n",
        "    df = df.transform(lambda x: row_transform(x, threshold))"
      ]
    },
    {
      "cell_type": "code",
      "execution_count": 6,
      "metadata": {
        "id": "eKnL6r1UxYBe"
      },
      "outputs": [],
      "source": [
        "cb = '/content/drive/MyDrive/Capstone/COMBINED DATA/COBRE Binary'\n",
        "cw = '/content/drive/MyDrive/Capstone/COMBINED DATA/COBRE Weighted'\n",
        "\n",
        "ub = '/content/drive/MyDrive/Capstone/COMBINED DATA/UCLA Binary v2'\n",
        "uw = '/content/drive/MyDrive/Capstone/COMBINED DATA/UCLA Weighted v2'\n",
        "\n",
        "uba = '/content/drive/MyDrive/Capstone/Data Augmentation/UCLA Augmented Binary/UCLA Binary 0_2'\n",
        "uwa = '/content/drive/MyDrive/Capstone/Data Augmentation/UCLA Augmented'\n",
        "\n",
        "uba1 = '/content/drive/MyDrive/Capstone/Data Augmentation/UCLA Augmented Method 2 Binary/UCLA Binary 0_2'\n",
        "uwa1 = '/content/drive/MyDrive/Capstone/Data Augmentation/UCLA Augmented Method 2'\n",
        "\n",
        "weighted_features_aug = '/content/drive/MyDrive/Capstone/Data Augmentation/Local Weighted features - UCLA Aug/'\n",
        "binary_features_aug = '/content/drive/MyDrive/Capstone/Data Augmentation/Local Binary features -  UCLA Aug/'\n",
        "\n",
        "weighted_features_aug1 = '/content/drive/MyDrive/Capstone/Data Augmentation/Local Weighted features- UCLA Aug v2/'\n",
        "binary_features_aug1 = '/content/drive/MyDrive/Capstone/Data Augmentation/Local Binary features - UCLA Aug v2/'\n",
        "\n",
        "binary_features_02 = '/content/drive/MyDrive/Capstone/Graph properties /UCLA Binary Local 0_2/'\n",
        "weighted_features = '/content/drive/MyDrive/Capstone/Graph properties /Weighted local feature files/'"
      ]
    },
    {
      "cell_type": "code",
      "source": [
        "#0.25 threshold\n",
        "ub_02 = '/content/drive/MyDrive/Capstone/COMBINED DATA/UCLA Binary 0_2/'\n",
        "binary_features = '/content/drive/MyDrive/Capstone/Graph properties /UCLA Binary Local 0_2/'"
      ],
      "metadata": {
        "id": "aT7b-jlwqJ4W"
      },
      "execution_count": 7,
      "outputs": []
    },
    {
      "cell_type": "code",
      "execution_count": 8,
      "metadata": {
        "id": "0SHQCSrjwezy"
      },
      "outputs": [],
      "source": [
        "graphs_dir = [uba1, uba, ub_02]\n",
        "# graphs_dir = [ub]\n",
        "feat_dir = [(binary_features, \"binary_node_features_ucla_binary_\"), (weighted_features, \"weighted_node_features_\")]\n",
        "aug_feat_dir = [(binary_features_aug, \"binary_node_features_\"), (weighted_features_aug, \"weighted_node_features_\")]\n",
        "aug_feat_dir1 = [(binary_features_aug1, \"binary_node_features_\"), (weighted_features_aug1, \"weighted_node_features_\")]"
      ]
    },
    {
      "cell_type": "code",
      "execution_count": 9,
      "metadata": {
        "id": "ikl0M337zW3q"
      },
      "outputs": [],
      "source": [
        "in_feat=0"
      ]
    },
    {
      "cell_type": "code",
      "execution_count": 10,
      "metadata": {
        "colab": {
          "base_uri": "https://localhost:8080/"
        },
        "id": "80-tILrruzCv",
        "outputId": "0326a134-a4da-48c9-c1cf-76b030431d4b"
      },
      "outputs": [
        {
          "output_type": "stream",
          "name": "stdout",
          "text": [
            "4018\n",
            "4021\n",
            "4023\n",
            "4014\n",
            "4016\n",
            "4019\n",
            "4024\n",
            "4022\n",
            "4025\n",
            "4009\n",
            "4017\n",
            "4000\n",
            "4001\n",
            "4006\n",
            "4015\n",
            "4005\n",
            "4002\n",
            "4003\n",
            "4013\n",
            "4008\n",
            "4010\n",
            "4007\n",
            "4020\n",
            "4004\n",
            "4011\n",
            "4012\n",
            "4041\n",
            "4043\n",
            "4061\n",
            "4066\n",
            "4034\n",
            "4032\n",
            "4051\n",
            "4069\n",
            "4067\n",
            "4029\n",
            "4035\n",
            "4037\n",
            "4028\n",
            "4039\n",
            "4062\n",
            "4060\n",
            "4038\n",
            "4058\n",
            "4047\n",
            "4055\n",
            "4072\n",
            "4075\n",
            "4050\n",
            "4048\n",
            "4074\n",
            "4042\n",
            "4068\n",
            "4026\n",
            "4073\n",
            "4057\n",
            "4054\n",
            "4064\n",
            "4052\n",
            "4033\n",
            "4030\n",
            "4045\n",
            "4071\n",
            "4040\n",
            "4056\n",
            "4065\n",
            "4063\n",
            "4053\n",
            "4031\n",
            "4070\n",
            "4036\n",
            "4059\n",
            "4027\n",
            "4049\n",
            "4044\n",
            "4046\n",
            "4098\n",
            "4113\n",
            "4103\n",
            "4107\n",
            "4077\n",
            "4120\n",
            "4100\n",
            "4109\n",
            "4080\n",
            "4086\n",
            "4091\n",
            "4078\n",
            "4079\n",
            "4093\n",
            "4112\n",
            "4111\n",
            "4090\n",
            "4089\n",
            "4104\n",
            "4101\n",
            "4108\n",
            "4087\n",
            "4083\n",
            "4097\n",
            "4123\n",
            "4118\n",
            "4117\n",
            "4114\n",
            "4124\n",
            "4085\n",
            "4099\n",
            "4102\n",
            "4116\n",
            "4084\n",
            "4119\n",
            "4096\n",
            "4088\n",
            "4106\n",
            "4105\n",
            "4121\n",
            "4094\n",
            "4125\n",
            "4092\n",
            "4082\n",
            "4110\n",
            "4081\n",
            "4115\n",
            "4122\n",
            "4095\n",
            "4147\n",
            "4076\n",
            "4169\n",
            "4129\n",
            "4128\n",
            "4144\n",
            "4150\n",
            "4141\n",
            "4142\n",
            "4154\n",
            "4165\n",
            "4143\n",
            "4146\n",
            "4151\n",
            "4137\n",
            "4161\n",
            "4156\n",
            "4157\n",
            "4133\n",
            "4135\n",
            "4167\n",
            "4136\n",
            "4168\n",
            "4164\n",
            "4127\n",
            "4170\n",
            "4148\n",
            "4171\n",
            "4166\n",
            "4153\n",
            "4158\n",
            "4159\n",
            "4139\n",
            "4162\n",
            "4145\n",
            "4163\n",
            "4149\n",
            "4140\n",
            "4130\n",
            "4134\n",
            "4126\n",
            "4131\n",
            "4160\n",
            "4155\n",
            "4138\n",
            "4152\n",
            "4132\n",
            "3125\n",
            "26\n",
            "3126\n",
            "26\n",
            "3129\n",
            "26\n",
            "3128\n",
            "26\n",
            "3130\n",
            "26\n",
            "3133\n",
            "26\n",
            "3131\n",
            "26\n",
            "3135\n",
            "26\n",
            "3132\n",
            "26\n",
            "3134\n",
            "26\n",
            "3136\n",
            "26\n",
            "3138\n",
            "26\n",
            "3137\n",
            "26\n",
            "3139\n",
            "26\n",
            "3140\n",
            "26\n",
            "3141\n",
            "26\n",
            "3142\n",
            "26\n",
            "3144\n",
            "26\n",
            "3143\n",
            "26\n",
            "3146\n",
            "26\n",
            "3145\n",
            "26\n",
            "3148\n",
            "26\n",
            "3149\n",
            "26\n",
            "3147\n",
            "26\n",
            "3151\n",
            "26\n",
            "3152\n",
            "26\n",
            "3154\n",
            "26\n",
            "3155\n",
            "26\n",
            "3153\n",
            "26\n",
            "3158\n",
            "26\n",
            "3156\n",
            "26\n",
            "3161\n",
            "26\n",
            "3159\n",
            "26\n",
            "3162\n",
            "26\n",
            "3157\n",
            "26\n",
            "3163\n",
            "26\n",
            "3164\n",
            "26\n",
            "3165\n",
            "26\n",
            "3168\n",
            "26\n",
            "3167\n",
            "26\n",
            "3170\n",
            "26\n",
            "3169\n",
            "26\n",
            "3171\n",
            "26\n",
            "3166\n",
            "26\n",
            "3160\n",
            "26\n",
            "3150\n",
            "26\n",
            "2019\n",
            "2024\n",
            "2022\n",
            "2015\n",
            "2017\n",
            "2020\n",
            "2025\n",
            "2026\n",
            "2023\n",
            "2010\n",
            "2018\n",
            "2001\n",
            "2002\n",
            "2007\n",
            "2016\n",
            "2006\n",
            "2014\n",
            "2003\n",
            "2004\n",
            "2009\n",
            "2008\n",
            "2011\n",
            "2005\n",
            "2012\n",
            "2021\n",
            "2013\n",
            "2042\n",
            "2044\n",
            "2067\n",
            "2062\n",
            "2035\n",
            "2070\n",
            "2033\n",
            "2052\n",
            "2030\n",
            "2068\n",
            "2029\n",
            "2038\n",
            "2036\n",
            "2040\n",
            "2063\n",
            "2061\n",
            "2059\n",
            "2056\n",
            "2039\n",
            "2048\n",
            "2073\n",
            "2076\n",
            "2051\n",
            "2075\n",
            "2043\n",
            "2069\n",
            "2049\n",
            "2027\n",
            "2074\n",
            "2058\n",
            "2055\n",
            "2065\n",
            "2034\n",
            "2046\n",
            "2053\n",
            "2031\n",
            "2072\n",
            "2041\n",
            "2057\n",
            "2066\n",
            "2064\n",
            "2032\n",
            "2054\n",
            "2071\n",
            "2037\n",
            "2028\n",
            "2060\n",
            "2045\n",
            "2047\n",
            "2050\n",
            "2099\n",
            "2114\n",
            "2108\n",
            "2104\n",
            "2101\n",
            "2121\n",
            "2078\n",
            "2110\n",
            "2081\n",
            "2087\n",
            "2092\n",
            "2079\n",
            "2113\n",
            "2080\n",
            "2094\n",
            "2112\n",
            "2091\n",
            "2090\n",
            "2105\n",
            "2102\n",
            "2088\n",
            "2109\n",
            "2124\n",
            "2098\n",
            "2084\n",
            "2118\n",
            "2119\n",
            "2115\n",
            "2125\n",
            "2086\n",
            "2100\n",
            "2117\n",
            "2103\n",
            "2085\n",
            "2097\n",
            "2120\n",
            "2107\n",
            "2089\n",
            "2106\n",
            "2095\n",
            "2126\n",
            "2122\n",
            "2093\n",
            "2083\n",
            "2111\n",
            "2082\n",
            "2123\n",
            "2116\n",
            "2096\n",
            "2077\n",
            "2148\n",
            "2130\n",
            "2171\n",
            "2129\n",
            "2151\n",
            "2145\n",
            "2142\n",
            "2156\n",
            "2143\n",
            "2167\n",
            "2144\n",
            "2147\n",
            "2152\n",
            "2163\n",
            "2138\n",
            "2159\n",
            "2158\n",
            "2134\n",
            "2169\n",
            "2136\n",
            "2137\n",
            "2166\n",
            "2128\n",
            "2170\n",
            "2149\n",
            "2168\n",
            "2160\n",
            "2172\n",
            "2154\n",
            "2161\n",
            "2140\n",
            "2164\n",
            "2165\n",
            "2150\n",
            "2146\n",
            "2141\n",
            "2131\n",
            "2135\n",
            "2127\n",
            "2132\n",
            "2157\n",
            "2162\n",
            "2139\n",
            "2133\n",
            "2153\n"
          ]
        }
      ],
      "source": [
        "graphs = list()\n",
        "graph_labels = list()\n",
        "\n",
        "# Graph creation\n",
        "for directory in graphs_dir:\n",
        "  for file in os.listdir(directory):\n",
        "    if '(' in file:\n",
        "        continue\n",
        "    if file.endswith('.csv'):\n",
        "      if (directory == cb):\n",
        "        subject = file[13:18]\n",
        "      elif (directory == cw):\n",
        "          subject = file[15:20]\n",
        "      elif (directory == ub_02):\n",
        "          subject = file[12:16]\n",
        "          if int(subject) == 2155:\n",
        "            continue\n",
        "      elif (directory == uw):\n",
        "          subject = file[14:18]\n",
        "      elif (directory == uba):\n",
        "          subject = file[12:16]\n",
        "          if int(subject) < 3125:\n",
        "            continue\n",
        "      elif (directory == uba1):\n",
        "          subject = file[12:16]\n",
        "      else:\n",
        "        print(\"INVALID DIRECTORY\")\n",
        "        exit(0)\n",
        "\n",
        "\n",
        "      # APPENDING LABEL\n",
        "      subject = int(subject)\n",
        "      print(subject)\n",
        "      mask = labels_mappings['Subject'] == subject\n",
        "      #only for aug v2\n",
        "      if directory ==  uba1:\n",
        "        if(labels_mappings[mask]['Label'].values[0]==0 or \n",
        "            (labels_mappings[mask]['Label'].values[0]!=aug2_labels.query(\"Subject==@subject\")[\"assumed\"].values[0])):\n",
        "            continue\n",
        "      graph_labels.append(labels_mappings[mask]['Label'].values[0])\n",
        "\n",
        "      # APPENDING CORRESPONDING GRAPH\n",
        "      df = pd.read_csv(directory+'/'+file, header=None)\n",
        "      df = df.fillna(0)\n",
        "      if directory == uba:\n",
        "        for col in df:\n",
        "          df[col] = df[col].astype(np.int64)\n",
        "      G = nx.from_pandas_adjacency(df)          \n",
        "\n",
        "      # Features\n",
        "      if directory == uba: \n",
        "        if len(feat_dir) == 1:\n",
        "          node_data = pd.read_csv(aug_feat_dir[0][0]+aug_feat_dir[0][1]+str(subject)+'.csv')\n",
        "          node_data = node_data.drop(['Unnamed: 0'], axis=1, errors='ignore')\n",
        "        else: \n",
        "          node_data_1 = pd.read_csv(aug_feat_dir[0][0]+aug_feat_dir[0][1]+str(subject)+'.csv')\n",
        "          node_data_2 = pd.read_csv(aug_feat_dir[1][0]+aug_feat_dir[1][1]+str(subject)+'.csv')\n",
        "          node_data_1 = node_data_1.drop(['Unnamed: 0'], axis=1, errors='ignore')\n",
        "          node_data_2 = node_data_2.drop(['Unnamed: 0'], axis=1, errors='ignore')\n",
        "          node_data = pd.merge(node_data_1, node_data_2, how = \"inner\", left_index=True, right_index=True)\n",
        "          print(len(list(node_data.columns)))\n",
        "      elif directory == uba1:\n",
        "        if len(feat_dir) == 1:\n",
        "          node_data = pd.read_csv(aug_feat_dir1[0][0]+aug_feat_dir1[0][1]+str(subject)+'.csv')\n",
        "          node_data = node_data.drop(['Unnamed: 0'], axis=1, errors='ignore')\n",
        "        else: \n",
        "          node_data_1 = pd.read_csv(aug_feat_dir1[0][0]+aug_feat_dir1[0][1]+str(subject)+'.csv')\n",
        "          node_data_2 = pd.read_csv(aug_feat_dir1[1][0]+aug_feat_dir1[1][1]+str(subject)+'.csv')\n",
        "          node_data_1 = node_data_1.drop(['Unnamed: 0'], axis=1, errors='ignore')\n",
        "          node_data_2 = node_data_2.drop(['Unnamed: 0'], axis=1, errors='ignore')\n",
        "          node_data = pd.merge(node_data_1, node_data_2, how = \"inner\", left_index=True, right_index=True) \n",
        "      else:\n",
        "        if len(feat_dir) == 1:\n",
        "          node_data = pd.read_csv(feat_dir[0][0]+feat_dir[0][1]+str(subject)+'.csv')\n",
        "          node_data = node_data.drop(['Unnamed: 0'], axis=1, errors='ignore')\n",
        "        else:\n",
        "          node_data_1 = pd.read_csv(feat_dir[0][0]+feat_dir[0][1]+str(subject)+'.csv')\n",
        "          node_data_2 = pd.read_csv(feat_dir[1][0]+feat_dir[1][1]+str(subject)+'.csv')\n",
        "          node_data_1 = node_data_1.drop(['Unnamed: 0'], axis=1, errors='ignore')\n",
        "          node_data_2 = node_data_2.drop(['Unnamed: 0'], axis=1, errors='ignore')\n",
        "          node_data = pd.merge(node_data_1, node_data_2, how = \"inner\", left_index=True, right_index=True)\n",
        "\n",
        "      node_data = node_data.drop(['subgraph centrality'], axis=1, errors='ignore')\n",
        "      in_feat = len(node_data.columns)\n",
        "\n",
        "      # Standardisation\n",
        "      cols = list(node_data)\n",
        "      scaler = StandardScaler().fit(node_data)\n",
        "      node_data = scaler.transform(node_data)\n",
        "      node_data = pd.DataFrame(node_data, columns = cols)\n",
        "      \n",
        "      g = StellarGraph.from_networkx(G,node_features=node_data)\n",
        "      graphs.append(g)"
      ]
    },
    {
      "cell_type": "code",
      "execution_count": 11,
      "metadata": {
        "id": "LUyZBt78mYP_"
      },
      "outputs": [],
      "source": [
        "graph_labels = pd.DataFrame(graph_labels)"
      ]
    },
    {
      "cell_type": "code",
      "execution_count": 12,
      "metadata": {
        "id": "jmGfxhMICpMq"
      },
      "outputs": [],
      "source": [
        "graph_labels = pd.get_dummies(graph_labels, drop_first=True)"
      ]
    },
    {
      "cell_type": "markdown",
      "metadata": {
        "id": "-CufcfzeHY82"
      },
      "source": [
        "### GCN Model"
      ]
    },
    {
      "cell_type": "code",
      "execution_count": 13,
      "metadata": {
        "id": "05KvxfZfC0s1"
      },
      "outputs": [],
      "source": [
        "generator = PaddedGraphGenerator(graphs=graphs)"
      ]
    },
    {
      "cell_type": "code",
      "execution_count": 14,
      "metadata": {
        "id": "JCTOgpXZVtKO"
      },
      "outputs": [],
      "source": [
        "es = EarlyStopping(monitor=\"val_acc\", min_delta=0, patience=30, restore_best_weights=True)"
      ]
    },
    {
      "cell_type": "code",
      "execution_count": 15,
      "metadata": {
        "id": "ltlt1y0tvlYI"
      },
      "outputs": [],
      "source": [
        "gc_model = GCNSupervisedGraphClassification(\n",
        "        layer_sizes=[in_feat, 32, 64, 128, 64, 32, 16, 4, 2],\n",
        "        activations=[\"leaky_relu\", \"leaky_relu\", \"leaky_relu\",  \"leaky_relu\", \"leaky_relu\", \"leaky_relu\", \"leaky_relu\", \"leaky_relu\", \"log_softmax\"],\n",
        "        generator=generator,\n",
        "        pool_all_layers = True,\n",
        "        pooling = None,\n",
        "        dropout=0.5,\n",
        "    )\n",
        "x_inp, x_out = gc_model.in_out_tensors()\n",
        "\n",
        "predictions = Dense(units=16, activation=\"relu\")(x_out)\n",
        "#predictions = Dense(units=16, activation=\"relu\")(predictions)\n",
        "predictions = Dense(units=1, activation=\"sigmoid\")(predictions)\n"
      ]
    },
    {
      "cell_type": "code",
      "execution_count": 16,
      "metadata": {
        "id": "TPkT6Z3nv1Jv"
      },
      "outputs": [],
      "source": [
        "epochs=100"
      ]
    },
    {
      "cell_type": "code",
      "execution_count": 17,
      "metadata": {
        "colab": {
          "base_uri": "https://localhost:8080/"
        },
        "id": "yBj9q5WYxXWC",
        "outputId": "d23de6c1-d5a7-4a42-bae3-010e53866942"
      },
      "outputs": [
        {
          "output_type": "stream",
          "name": "stdout",
          "text": [
            "Epoch 1/100\n",
            "4/4 [==============================] - 4s 420ms/step - loss: 0.7037 - acc: 0.5000 - val_loss: 0.6969 - val_acc: 0.5000\n",
            "Epoch 2/100\n",
            "4/4 [==============================] - 1s 284ms/step - loss: 0.6975 - acc: 0.5051 - val_loss: 0.6909 - val_acc: 0.5800\n",
            "Epoch 3/100\n",
            "4/4 [==============================] - 1s 272ms/step - loss: 0.6938 - acc: 0.4898 - val_loss: 0.6910 - val_acc: 0.5000\n",
            "Epoch 4/100\n",
            "4/4 [==============================] - 1s 299ms/step - loss: 0.6926 - acc: 0.5000 - val_loss: 0.6912 - val_acc: 0.5000\n",
            "Epoch 5/100\n",
            "4/4 [==============================] - 1s 303ms/step - loss: 0.6938 - acc: 0.5000 - val_loss: 0.6907 - val_acc: 0.5000\n",
            "Epoch 6/100\n",
            "4/4 [==============================] - 1s 296ms/step - loss: 0.6933 - acc: 0.5000 - val_loss: 0.6903 - val_acc: 0.5000\n",
            "Epoch 7/100\n",
            "4/4 [==============================] - 1s 308ms/step - loss: 0.6917 - acc: 0.4898 - val_loss: 0.6900 - val_acc: 0.5000\n",
            "Epoch 8/100\n",
            "4/4 [==============================] - 1s 272ms/step - loss: 0.6913 - acc: 0.5357 - val_loss: 0.6896 - val_acc: 0.8000\n",
            "Epoch 9/100\n",
            "4/4 [==============================] - 1s 266ms/step - loss: 0.6918 - acc: 0.5255 - val_loss: 0.6894 - val_acc: 0.6600\n",
            "Epoch 10/100\n",
            "4/4 [==============================] - 1s 270ms/step - loss: 0.6928 - acc: 0.4643 - val_loss: 0.6893 - val_acc: 0.5000\n",
            "Epoch 11/100\n",
            "4/4 [==============================] - 1s 302ms/step - loss: 0.6915 - acc: 0.5255 - val_loss: 0.6892 - val_acc: 0.4800\n",
            "Epoch 12/100\n",
            "4/4 [==============================] - 1s 298ms/step - loss: 0.6899 - acc: 0.5867 - val_loss: 0.6889 - val_acc: 0.5800\n",
            "Epoch 13/100\n",
            "4/4 [==============================] - 1s 274ms/step - loss: 0.6896 - acc: 0.5816 - val_loss: 0.6886 - val_acc: 0.7200\n",
            "Epoch 14/100\n",
            "4/4 [==============================] - 1s 328ms/step - loss: 0.6917 - acc: 0.5000 - val_loss: 0.6882 - val_acc: 0.6200\n",
            "Epoch 15/100\n",
            "4/4 [==============================] - 1s 322ms/step - loss: 0.6882 - acc: 0.5612 - val_loss: 0.6880 - val_acc: 0.5800\n",
            "Epoch 16/100\n",
            "4/4 [==============================] - 1s 305ms/step - loss: 0.6924 - acc: 0.5051 - val_loss: 0.6877 - val_acc: 0.5400\n",
            "Epoch 17/100\n",
            "4/4 [==============================] - 1s 303ms/step - loss: 0.6906 - acc: 0.5459 - val_loss: 0.6872 - val_acc: 0.6400\n",
            "Epoch 18/100\n",
            "4/4 [==============================] - 1s 279ms/step - loss: 0.6895 - acc: 0.5918 - val_loss: 0.6869 - val_acc: 0.7800\n",
            "Epoch 19/100\n",
            "4/4 [==============================] - 1s 271ms/step - loss: 0.6882 - acc: 0.5816 - val_loss: 0.6864 - val_acc: 0.7600\n",
            "Epoch 20/100\n",
            "4/4 [==============================] - 1s 317ms/step - loss: 0.6891 - acc: 0.5867 - val_loss: 0.6860 - val_acc: 0.6800\n",
            "Epoch 21/100\n",
            "4/4 [==============================] - 1s 270ms/step - loss: 0.6864 - acc: 0.6020 - val_loss: 0.6855 - val_acc: 0.7400\n",
            "Epoch 22/100\n",
            "4/4 [==============================] - 1s 296ms/step - loss: 0.6865 - acc: 0.6224 - val_loss: 0.6849 - val_acc: 0.7600\n",
            "Epoch 23/100\n",
            "4/4 [==============================] - 1s 318ms/step - loss: 0.6899 - acc: 0.5408 - val_loss: 0.6844 - val_acc: 0.7400\n",
            "Epoch 24/100\n",
            "4/4 [==============================] - 1s 274ms/step - loss: 0.6905 - acc: 0.5204 - val_loss: 0.6838 - val_acc: 0.7400\n",
            "Epoch 25/100\n",
            "4/4 [==============================] - 1s 303ms/step - loss: 0.6886 - acc: 0.5765 - val_loss: 0.6831 - val_acc: 0.7400\n",
            "Epoch 26/100\n",
            "4/4 [==============================] - 1s 315ms/step - loss: 0.6851 - acc: 0.6122 - val_loss: 0.6827 - val_acc: 0.5400\n",
            "Epoch 27/100\n",
            "4/4 [==============================] - 1s 268ms/step - loss: 0.6874 - acc: 0.5765 - val_loss: 0.6817 - val_acc: 0.7000\n",
            "Epoch 28/100\n",
            "4/4 [==============================] - 1s 290ms/step - loss: 0.6833 - acc: 0.5510 - val_loss: 0.6806 - val_acc: 0.7600\n",
            "Epoch 29/100\n",
            "4/4 [==============================] - 1s 280ms/step - loss: 0.6821 - acc: 0.6122 - val_loss: 0.6797 - val_acc: 0.6600\n",
            "Epoch 30/100\n",
            "4/4 [==============================] - 1s 306ms/step - loss: 0.6853 - acc: 0.5459 - val_loss: 0.6782 - val_acc: 0.7200\n",
            "Epoch 31/100\n",
            "4/4 [==============================] - 1s 259ms/step - loss: 0.6801 - acc: 0.6071 - val_loss: 0.6768 - val_acc: 0.7200\n",
            "Epoch 32/100\n",
            "4/4 [==============================] - 1s 286ms/step - loss: 0.6776 - acc: 0.6429 - val_loss: 0.6750 - val_acc: 0.7400\n",
            "Epoch 33/100\n",
            "4/4 [==============================] - 1s 270ms/step - loss: 0.6796 - acc: 0.6122 - val_loss: 0.6729 - val_acc: 0.7200\n",
            "Epoch 34/100\n",
            "4/4 [==============================] - 1s 295ms/step - loss: 0.6856 - acc: 0.5561 - val_loss: 0.6709 - val_acc: 0.7200\n",
            "Epoch 35/100\n",
            "4/4 [==============================] - 1s 327ms/step - loss: 0.6776 - acc: 0.6378 - val_loss: 0.6693 - val_acc: 0.7000\n",
            "Epoch 36/100\n",
            "4/4 [==============================] - 1s 316ms/step - loss: 0.6763 - acc: 0.6224 - val_loss: 0.6670 - val_acc: 0.6800\n",
            "Epoch 37/100\n",
            "4/4 [==============================] - 1s 265ms/step - loss: 0.6786 - acc: 0.5510 - val_loss: 0.6643 - val_acc: 0.7200\n",
            "Epoch 38/100\n",
            "4/4 [==============================] - 1s 296ms/step - loss: 0.6730 - acc: 0.5612 - val_loss: 0.6620 - val_acc: 0.7200\n",
            "50/50 [==============================] - 0s 5ms/step - loss: 0.6896 - acc: 0.8000\n"
          ]
        }
      ],
      "source": [
        "model = Model(inputs=x_inp, outputs=predictions)\n",
        "model.compile(\n",
        "    optimizer=Adam(learning_rate=0.0005), loss=binary_crossentropy, metrics=[\"acc\"],\n",
        ")\n",
        "\n",
        "train_graphs, test_graphs = model_selection.train_test_split(graph_labels, train_size=0.8, test_size=0.2, stratify=graph_labels, random_state=5)\n",
        "gen = PaddedGraphGenerator(graphs=graphs)\n",
        "\n",
        "train_gen = gen.flow(\n",
        "    list(train_graphs.index - 1),\n",
        "    targets=train_graphs.values,\n",
        "    batch_size=50,\n",
        "    symmetric_normalization=True,\n",
        ")\n",
        "\n",
        "test_gen = gen.flow(\n",
        "    list(test_graphs.index - 1),\n",
        "    targets=test_graphs.values,\n",
        "    batch_size=1,\n",
        "    symmetric_normalization=True,\n",
        ")\n",
        "\n",
        "history = model.fit(train_gen, epochs=epochs, verbose=1, validation_data=test_gen, shuffle=True, callbacks=[es],)\n",
        "test_metrics = model.evaluate(test_gen)\n",
        "\n",
        "\n"
      ]
    },
    {
      "cell_type": "code",
      "execution_count": 18,
      "metadata": {
        "colab": {
          "base_uri": "https://localhost:8080/"
        },
        "id": "hgNzNEo3pOP9",
        "outputId": "78957f5a-e481-42fd-c004-611344a0b742"
      },
      "outputs": [
        {
          "output_type": "stream",
          "name": "stdout",
          "text": [
            "\n",
            "Test Set Metrics:\n",
            "Validation Accuracy:  0.800000011920929\n",
            "Validation Loss:  0.6619921326637268\n"
          ]
        }
      ],
      "source": [
        "print(\"\\nTest Set Metrics:\")\n",
        "\n",
        "print(\"Validation Accuracy: \", max(history.history['val_acc']))\n",
        "print(\"Validation Loss: \", min(history.history['val_loss']))"
      ]
    },
    {
      "cell_type": "code",
      "execution_count": 19,
      "metadata": {
        "colab": {
          "base_uri": "https://localhost:8080/"
        },
        "id": "EAjTlBZ8WOM3",
        "outputId": "21305fbc-c166-44ef-b891-98ba6ce2b97a"
      },
      "outputs": [
        {
          "output_type": "stream",
          "name": "stdout",
          "text": [
            "\n",
            "Training Set Metrics:\n",
            "Accuracy:  0.6428571343421936\n",
            "Loss:  0.6730039119720459\n"
          ]
        }
      ],
      "source": [
        "print(\"\\nTraining Set Metrics:\")\n",
        "\n",
        "print(\"Accuracy: \", max(history.history['acc']))\n",
        "print(\"Loss: \", min(history.history['loss']))"
      ]
    },
    {
      "cell_type": "code",
      "execution_count": 20,
      "metadata": {
        "colab": {
          "base_uri": "https://localhost:8080/",
          "height": 295
        },
        "id": "p6mG-b0yPVvI",
        "outputId": "b6a001cf-6269-4f59-e92d-3ff9566af687"
      },
      "outputs": [
        {
          "output_type": "display_data",
          "data": {
            "text/plain": [
              "<Figure size 432x288 with 1 Axes>"
            ],
            "image/png": "[encoded data removed]"
          },
          "metadata": {
            "needs_background": "light"
          }
        }
      ],
      "source": [
        "plt.plot(history.history['acc'])\n",
        "plt.plot(history.history['val_acc'])\n",
        "plt.title('model accuracy')\n",
        "plt.ylabel('accuracy')\n",
        "plt.xlabel('epoch')\n",
        "plt.legend(['train acc', 'val acc'], loc='upper left')\n",
        "plt.show()"
      ]
    },
    {
      "cell_type": "code",
      "execution_count": 21,
      "metadata": {
        "colab": {
          "base_uri": "https://localhost:8080/"
        },
        "id": "FHHZOS3e0XN3",
        "outputId": "cfc1c52d-561e-44c3-e5bd-a1405fed87a8"
      },
      "outputs": [
        {
          "output_type": "stream",
          "name": "stdout",
          "text": [
            "50/50 [==============================] - 1s 5ms/step\n"
          ]
        }
      ],
      "source": [
        "pred = model.predict(test_gen)"
      ]
    },
    {
      "cell_type": "code",
      "execution_count": 22,
      "metadata": {
        "id": "7a0R8L8G4j7P"
      },
      "outputs": [],
      "source": [
        "y_pred = []\n",
        "y_true = []\n",
        "x = np.array(pred)\n",
        "for i in x:\n",
        "  if i <0.5:\n",
        "    y_pred.append(0)\n",
        "  else:\n",
        "    y_pred.append(1)\n",
        "\n",
        "for t in test_gen.targets:\n",
        "    y_true.append(t[0])"
      ]
    },
    {
      "cell_type": "code",
      "execution_count": 23,
      "metadata": {
        "id": "aIph_bQG5Xoo"
      },
      "outputs": [],
      "source": [
        "from sklearn import metrics\n",
        "\n",
        "f1_score = metrics.f1_score(y_true, y_pred)\n",
        "precision = metrics.precision_score(y_true, y_pred)\n",
        "recall =  metrics.recall_score(y_true, y_pred)\n",
        "accuracy = metrics.accuracy_score(y_true, y_pred)"
      ]
    },
    {
      "cell_type": "code",
      "execution_count": 24,
      "metadata": {
        "colab": {
          "base_uri": "https://localhost:8080/"
        },
        "id": "9jLoV_Out_Wi",
        "outputId": "f7ef8cdb-7cfc-428b-dddc-03b9e06d512b"
      },
      "outputs": [
        {
          "output_type": "stream",
          "name": "stdout",
          "text": [
            "Metrics:\n",
            "Accuracy:  0.8\n",
            "\n",
            "f1 score:  0.8000000000000002\n",
            "precision:  0.8\n",
            "recall:  0.8\n"
          ]
        }
      ],
      "source": [
        "print(\"Metrics:\")\n",
        "\n",
        "print(\"Accuracy: \", accuracy)\n",
        "print()\n",
        "print(\"f1 score: \", f1_score)\n",
        "print(\"precision: \", precision)\n",
        "print(\"recall: \", recall)"
      ]
    },
    {
      "cell_type": "code",
      "execution_count": 25,
      "metadata": {
        "id": "nV0y28b2cV3f"
      },
      "outputs": [],
      "source": [
        "tn, fp, fn, tp = confusion_matrix(y_true, y_pred).ravel()"
      ]
    },
    {
      "cell_type": "code",
      "execution_count": 26,
      "metadata": {
        "colab": {
          "base_uri": "https://localhost:8080/"
        },
        "id": "jQFO1otsi_C6",
        "outputId": "2744eff4-7419-4acb-b15a-432ea04520d2"
      },
      "outputs": [
        {
          "output_type": "execute_result",
          "data": {
            "text/plain": [
              "0.8"
            ]
          },
          "metadata": {},
          "execution_count": 26
        }
      ],
      "source": [
        "specificity = tn / (tn+fp)\n",
        "specificity"
      ]
    },
    {
      "cell_type": "code",
      "execution_count": 27,
      "metadata": {
        "colab": {
          "base_uri": "https://localhost:8080/",
          "height": 300
        },
        "id": "x25DMyGRiCmJ",
        "outputId": "445ba232-e564-45c9-9780-4b529c24e3b9"
      },
      "outputs": [
        {
          "output_type": "execute_result",
          "data": {
            "text/plain": [
              "<sklearn.metrics._plot.confusion_matrix.ConfusionMatrixDisplay at 0x7fd6e4d55370>"
            ]
          },
          "metadata": {},
          "execution_count": 27
        },
        {
          "output_type": "display_data",
          "data": {
            "text/plain": [
              "<Figure size 432x288 with 2 Axes>"
            ],
            "image/png": "[encoded data removed]"
          },
          "metadata": {
            "needs_background": "light"
          }
        }
      ],
      "source": [
        "disp = ConfusionMatrixDisplay(confusion_matrix=confusion_matrix(y_true, y_pred), display_labels=[0,1])\n",
        "disp.plot()"
      ]
    },
    {
      "cell_type": "code",
      "execution_count": 28,
      "metadata": {
        "colab": {
          "base_uri": "https://localhost:8080/"
        },
        "id": "YJEuAkaBjh2H",
        "outputId": "5bbcdedb-a9da-4ee4-8c39-7d4cecfbb1a1"
      },
      "outputs": [
        {
          "output_type": "execute_result",
          "data": {
            "text/plain": [
              "0.8"
            ]
          },
          "metadata": {},
          "execution_count": 28
        }
      ],
      "source": [
        "roc_auc_score(y_true, y_pred)"
      ]
    }
  ],
  "metadata": {
    "colab": {
      "provenance": []
    },
    "kernelspec": {
      "display_name": "Python 3",
      "name": "python3"
    },
    "language_info": {
      "name": "python"
    }
  },
  "nbformat": 4,
  "nbformat_minor": 0
}