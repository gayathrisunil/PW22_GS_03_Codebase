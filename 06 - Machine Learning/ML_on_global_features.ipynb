{
  "nbformat": 4,
  "nbformat_minor": 0,
  "metadata": {
    "colab": {
      "provenance": []
    },
    "kernelspec": {
      "name": "python3",
      "display_name": "Python 3"
    },
    "language_info": {
      "name": "python"
    }
  },
  "cells": [
    {
      "cell_type": "markdown",
      "source": [
        "# Data Loading"
      ],
      "metadata": {
        "id": "X6oYJE34VzG4"
      }
    },
    {
      "cell_type": "code",
      "source": [
        "from google.colab import drive\n",
        "drive.mount('/content/drive')"
      ],
      "metadata": {
        "id": "9JlnLc6IBMBT",
        "colab": {
          "base_uri": "https://localhost:8080/"
        },
        "outputId": "3e374621-661f-4cfc-8300-a20e34967221"
      },
      "execution_count": null,
      "outputs": [
        {
          "output_type": "stream",
          "name": "stdout",
          "text": [
            "Drive already mounted at /content/drive; to attempt to forcibly remount, call drive.mount(\"/content/drive\", force_remount=True).\n"
          ]
        }
      ]
    },
    {
      "cell_type": "code",
      "execution_count": null,
      "metadata": {
        "id": "1Sas1fTiVpBp"
      },
      "outputs": [],
      "source": [
        "import pandas as pd \n",
        "import numpy as np\n",
        "from sklearn import preprocessing,svm\n",
        "from sklearn.metrics import confusion_matrix,classification_report,accuracy_score, mean_absolute_error, mean_squared_error,f1_score\n",
        "from sklearn.neighbors import KNeighborsRegressor\n",
        "from sklearn.preprocessing import StandardScaler, Normalizer\n",
        "from itertools import product, combinations\n",
        "from sklearn.tree import DecisionTreeClassifier\n",
        "from sklearn.naive_bayes import GaussianNB\n",
        "from sklearn.ensemble import AdaBoostClassifier\n",
        "from sklearn.linear_model import LogisticRegression\n",
        "from sklearn.neighbors import KNeighborsClassifier\n",
        "from sklearn.svm import SVC, LinearSVC\n",
        "from sklearn.ensemble import VotingClassifier,RandomForestClassifier,GradientBoostingClassifier\n",
        "from sklearn.model_selection import GridSearchCV, cross_val_score, StratifiedKFold, train_test_split\n",
        "from sklearn.feature_selection import mutual_info_classif,SelectFromModel\n",
        "from sklearn.decomposition import PCA\n",
        "import itertools\n",
        "import matplotlib.pyplot as plt\n",
        "from sklearn.pipeline import Pipeline\n",
        "import cvxopt\n",
        "import matplotlib.mlab as mlab\n",
        "import seaborn\n",
        "import pickle\n",
        "\n",
        "\n",
        "%matplotlib inline"
      ]
    },
    {
      "cell_type": "code",
      "source": [
        "combined_features='/content/drive/MyDrive/Capstone/Graph properties /Global feature files/Global combined.csv'\n",
        "binary_features= '/content/drive/MyDrive/Capstone/Graph properties /Global feature files/global_combined_binary_cleaned.csv'\n",
        "weighted_features='/content/drive/MyDrive/Capstone/Graph properties /Global feature files/global_combined_weighted.csv'\n",
        "path=binary_features"
      ],
      "metadata": {
        "id": "rsm5fLRUVxvW"
      },
      "execution_count": null,
      "outputs": []
    },
    {
      "cell_type": "code",
      "source": [
        "df= pd.read_csv(path)\n",
        "#df=df.drop(['Unnamed: 0','Randomized Partitioning Heuristic'], axis=1)\n",
        "df"
      ],
      "metadata": {
        "id": "Isl2OQCtY2s5",
        "colab": {
          "base_uri": "https://localhost:8080/",
          "height": 525
        },
        "outputId": "fc939e70-3699-4aec-e057-7e84d5c71a2d"
      },
      "execution_count": null,
      "outputs": [
        {
          "output_type": "execute_result",
          "data": {
            "text/plain": [
              "     Unnamed: 0  Subject  Approx Node Connectivity  \\\n",
              "0             0     2034                        17   \n",
              "1             1     2056                        23   \n",
              "2             2     2057                        17   \n",
              "3             3     2024                        20   \n",
              "4             4     2050                        18   \n",
              "..          ...      ...                       ...   \n",
              "314         314    40141                        19   \n",
              "315         315    40123                         6   \n",
              "316         316    40116                         7   \n",
              "317         317    40115                        13   \n",
              "318         318    40127                        14   \n",
              "\n",
              "     Approx Max Independent Sets  Approx Large Clique Size  \\\n",
              "0                            319                        30   \n",
              "1                            319                        25   \n",
              "2                            319                        21   \n",
              "3                            319                        24   \n",
              "4                            319                        23   \n",
              "..                           ...                       ...   \n",
              "314                          319                        25   \n",
              "315                          319                        28   \n",
              "316                          319                        29   \n",
              "317                          319                        18   \n",
              "318                          319                        24   \n",
              "\n",
              "     Approx Average Clustering  Approx Diameter  Approx Treewidth Min Degree  \\\n",
              "0                        0.578                3                          132   \n",
              "1                        0.520                3                          120   \n",
              "2                        0.556                3                          119   \n",
              "3                        0.538                3                          131   \n",
              "4                        0.524                3                          135   \n",
              "..                         ...              ...                          ...   \n",
              "314                      0.556                3                          121   \n",
              "315                      0.580                3                          107   \n",
              "316                      0.613                3                          107   \n",
              "317                      0.530                3                          111   \n",
              "318                      0.534                3                          114   \n",
              "\n",
              "     Degree Assortativity  Avg Shortest Path Length  ...  Avg Degree  \\\n",
              "0                0.197773                  1.593371  ...   33.597561   \n",
              "1                0.221608                  1.686892  ...   26.335366   \n",
              "2                0.179582                  1.684423  ...   26.707317   \n",
              "3                0.249837                  1.703501  ...   25.006098   \n",
              "4                0.359868                  1.697292  ...   25.841463   \n",
              "..                    ...                       ...  ...         ...   \n",
              "314              0.295640                  1.710310  ...   25.829268   \n",
              "315              0.438202                  1.772183  ...   24.323171   \n",
              "316              0.252487                  1.846551  ...   21.957317   \n",
              "317              0.323508                  1.818794  ...   20.780488   \n",
              "318              0.126515                  1.814604  ...   20.536585   \n",
              "\n",
              "     Global Clustering  Edges  Maximal Cliques  \\\n",
              "0             0.602853   5510            30092   \n",
              "1             0.536917   4319             6608   \n",
              "2             0.537487   4380             8727   \n",
              "3             0.520660   4101             6717   \n",
              "4             0.522355   4238             8022   \n",
              "..                 ...    ...              ...   \n",
              "314           0.549265   4236             9404   \n",
              "315           0.584091   3989             4212   \n",
              "316           0.601012   3601             2212   \n",
              "317           0.518191   3408             4311   \n",
              "318           0.527005   3368             2123   \n",
              "\n",
              "     Non Randomness wrt Random Model  Transitivity  Connected Components  \\\n",
              "0                          10.898755      0.602900                     1   \n",
              "1                           6.660088      0.535128                     1   \n",
              "2                           4.137419      0.528799                     1   \n",
              "3                           5.797461      0.526791                     1   \n",
              "4                           8.437650      0.534831                     1   \n",
              "..                               ...           ...                   ...   \n",
              "314                        12.395470      0.554442                     1   \n",
              "315                        -5.458323      0.619409                     1   \n",
              "316                         6.571716      0.615655                     1   \n",
              "317                        10.225171      0.522160                     1   \n",
              "318                        -3.727678      0.534074                     1   \n",
              "\n",
              "     Diameter  3 Edge Connected  Schizophrenic  \n",
              "0           3                 1              0  \n",
              "1           3                 1              0  \n",
              "2           3                 1              0  \n",
              "3           3                 1              0  \n",
              "4           3                 1              0  \n",
              "..        ...               ...            ...  \n",
              "314         3                 1              0  \n",
              "315         3                 1              0  \n",
              "316         3                 1              0  \n",
              "317         3                 1              0  \n",
              "318         3                 1              0  \n",
              "\n",
              "[319 rows x 23 columns]"
            ],
            "text/html": [
              "\n",
              "  <div id=\"df-6e3c392a-faa7-4c6d-b880-5ab62d52fff3\">\n",
              "    <div class=\"colab-df-container\">\n",
              "      <div>\n",
              "<style scoped>\n",
              "    .dataframe tbody tr th:only-of-type {\n",
              "        vertical-align: middle;\n",
              "    }\n",
              "\n",
              "    .dataframe tbody tr th {\n",
              "        vertical-align: top;\n",
              "    }\n",
              "\n",
              "    .dataframe thead th {\n",
              "        text-align: right;\n",
              "    }\n",
              "</style>\n",
              "<table border=\"1\" class=\"dataframe\">\n",
              "  <thead>\n",
              "    <tr style=\"text-align: right;\">\n",
              "      <th></th>\n",
              "      <th>Unnamed: 0</th>\n",
              "      <th>Subject</th>\n",
              "      <th>Approx Node Connectivity</th>\n",
              "      <th>Approx Max Independent Sets</th>\n",
              "      <th>Approx Large Clique Size</th>\n",
              "      <th>Approx Average Clustering</th>\n",
              "      <th>Approx Diameter</th>\n",
              "      <th>Approx Treewidth Min Degree</th>\n",
              "      <th>Degree Assortativity</th>\n",
              "      <th>Avg Shortest Path Length</th>\n",
              "      <th>...</th>\n",
              "      <th>Avg Degree</th>\n",
              "      <th>Global Clustering</th>\n",
              "      <th>Edges</th>\n",
              "      <th>Maximal Cliques</th>\n",
              "      <th>Non Randomness wrt Random Model</th>\n",
              "      <th>Transitivity</th>\n",
              "      <th>Connected Components</th>\n",
              "      <th>Diameter</th>\n",
              "      <th>3 Edge Connected</th>\n",
              "      <th>Schizophrenic</th>\n",
              "    </tr>\n",
              "  </thead>\n",
              "  <tbody>\n",
              "    <tr>\n",
              "      <th>0</th>\n",
              "      <td>0</td>\n",
              "      <td>2034</td>\n",
              "      <td>17</td>\n",
              "      <td>319</td>\n",
              "      <td>30</td>\n",
              "      <td>0.578</td>\n",
              "      <td>3</td>\n",
              "      <td>132</td>\n",
              "      <td>0.197773</td>\n",
              "      <td>1.593371</td>\n",
              "      <td>...</td>\n",
              "      <td>33.597561</td>\n",
              "      <td>0.602853</td>\n",
              "      <td>5510</td>\n",
              "      <td>30092</td>\n",
              "      <td>10.898755</td>\n",
              "      <td>0.602900</td>\n",
              "      <td>1</td>\n",
              "      <td>3</td>\n",
              "      <td>1</td>\n",
              "      <td>0</td>\n",
              "    </tr>\n",
              "    <tr>\n",
              "      <th>1</th>\n",
              "      <td>1</td>\n",
              "      <td>2056</td>\n",
              "      <td>23</td>\n",
              "      <td>319</td>\n",
              "      <td>25</td>\n",
              "      <td>0.520</td>\n",
              "      <td>3</td>\n",
              "      <td>120</td>\n",
              "      <td>0.221608</td>\n",
              "      <td>1.686892</td>\n",
              "      <td>...</td>\n",
              "      <td>26.335366</td>\n",
              "      <td>0.536917</td>\n",
              "      <td>4319</td>\n",
              "      <td>6608</td>\n",
              "      <td>6.660088</td>\n",
              "      <td>0.535128</td>\n",
              "      <td>1</td>\n",
              "      <td>3</td>\n",
              "      <td>1</td>\n",
              "      <td>0</td>\n",
              "    </tr>\n",
              "    <tr>\n",
              "      <th>2</th>\n",
              "      <td>2</td>\n",
              "      <td>2057</td>\n",
              "      <td>17</td>\n",
              "      <td>319</td>\n",
              "      <td>21</td>\n",
              "      <td>0.556</td>\n",
              "      <td>3</td>\n",
              "      <td>119</td>\n",
              "      <td>0.179582</td>\n",
              "      <td>1.684423</td>\n",
              "      <td>...</td>\n",
              "      <td>26.707317</td>\n",
              "      <td>0.537487</td>\n",
              "      <td>4380</td>\n",
              "      <td>8727</td>\n",
              "      <td>4.137419</td>\n",
              "      <td>0.528799</td>\n",
              "      <td>1</td>\n",
              "      <td>3</td>\n",
              "      <td>1</td>\n",
              "      <td>0</td>\n",
              "    </tr>\n",
              "    <tr>\n",
              "      <th>3</th>\n",
              "      <td>3</td>\n",
              "      <td>2024</td>\n",
              "      <td>20</td>\n",
              "      <td>319</td>\n",
              "      <td>24</td>\n",
              "      <td>0.538</td>\n",
              "      <td>3</td>\n",
              "      <td>131</td>\n",
              "      <td>0.249837</td>\n",
              "      <td>1.703501</td>\n",
              "      <td>...</td>\n",
              "      <td>25.006098</td>\n",
              "      <td>0.520660</td>\n",
              "      <td>4101</td>\n",
              "      <td>6717</td>\n",
              "      <td>5.797461</td>\n",
              "      <td>0.526791</td>\n",
              "      <td>1</td>\n",
              "      <td>3</td>\n",
              "      <td>1</td>\n",
              "      <td>0</td>\n",
              "    </tr>\n",
              "    <tr>\n",
              "      <th>4</th>\n",
              "      <td>4</td>\n",
              "      <td>2050</td>\n",
              "      <td>18</td>\n",
              "      <td>319</td>\n",
              "      <td>23</td>\n",
              "      <td>0.524</td>\n",
              "      <td>3</td>\n",
              "      <td>135</td>\n",
              "      <td>0.359868</td>\n",
              "      <td>1.697292</td>\n",
              "      <td>...</td>\n",
              "      <td>25.841463</td>\n",
              "      <td>0.522355</td>\n",
              "      <td>4238</td>\n",
              "      <td>8022</td>\n",
              "      <td>8.437650</td>\n",
              "      <td>0.534831</td>\n",
              "      <td>1</td>\n",
              "      <td>3</td>\n",
              "      <td>1</td>\n",
              "      <td>0</td>\n",
              "    </tr>\n",
              "    <tr>\n",
              "      <th>...</th>\n",
              "      <td>...</td>\n",
              "      <td>...</td>\n",
              "      <td>...</td>\n",
              "      <td>...</td>\n",
              "      <td>...</td>\n",
              "      <td>...</td>\n",
              "      <td>...</td>\n",
              "      <td>...</td>\n",
              "      <td>...</td>\n",
              "      <td>...</td>\n",
              "      <td>...</td>\n",
              "      <td>...</td>\n",
              "      <td>...</td>\n",
              "      <td>...</td>\n",
              "      <td>...</td>\n",
              "      <td>...</td>\n",
              "      <td>...</td>\n",
              "      <td>...</td>\n",
              "      <td>...</td>\n",
              "      <td>...</td>\n",
              "      <td>...</td>\n",
              "    </tr>\n",
              "    <tr>\n",
              "      <th>314</th>\n",
              "      <td>314</td>\n",
              "      <td>40141</td>\n",
              "      <td>19</td>\n",
              "      <td>319</td>\n",
              "      <td>25</td>\n",
              "      <td>0.556</td>\n",
              "      <td>3</td>\n",
              "      <td>121</td>\n",
              "      <td>0.295640</td>\n",
              "      <td>1.710310</td>\n",
              "      <td>...</td>\n",
              "      <td>25.829268</td>\n",
              "      <td>0.549265</td>\n",
              "      <td>4236</td>\n",
              "      <td>9404</td>\n",
              "      <td>12.395470</td>\n",
              "      <td>0.554442</td>\n",
              "      <td>1</td>\n",
              "      <td>3</td>\n",
              "      <td>1</td>\n",
              "      <td>0</td>\n",
              "    </tr>\n",
              "    <tr>\n",
              "      <th>315</th>\n",
              "      <td>315</td>\n",
              "      <td>40123</td>\n",
              "      <td>6</td>\n",
              "      <td>319</td>\n",
              "      <td>28</td>\n",
              "      <td>0.580</td>\n",
              "      <td>3</td>\n",
              "      <td>107</td>\n",
              "      <td>0.438202</td>\n",
              "      <td>1.772183</td>\n",
              "      <td>...</td>\n",
              "      <td>24.323171</td>\n",
              "      <td>0.584091</td>\n",
              "      <td>3989</td>\n",
              "      <td>4212</td>\n",
              "      <td>-5.458323</td>\n",
              "      <td>0.619409</td>\n",
              "      <td>1</td>\n",
              "      <td>3</td>\n",
              "      <td>1</td>\n",
              "      <td>0</td>\n",
              "    </tr>\n",
              "    <tr>\n",
              "      <th>316</th>\n",
              "      <td>316</td>\n",
              "      <td>40116</td>\n",
              "      <td>7</td>\n",
              "      <td>319</td>\n",
              "      <td>29</td>\n",
              "      <td>0.613</td>\n",
              "      <td>3</td>\n",
              "      <td>107</td>\n",
              "      <td>0.252487</td>\n",
              "      <td>1.846551</td>\n",
              "      <td>...</td>\n",
              "      <td>21.957317</td>\n",
              "      <td>0.601012</td>\n",
              "      <td>3601</td>\n",
              "      <td>2212</td>\n",
              "      <td>6.571716</td>\n",
              "      <td>0.615655</td>\n",
              "      <td>1</td>\n",
              "      <td>3</td>\n",
              "      <td>1</td>\n",
              "      <td>0</td>\n",
              "    </tr>\n",
              "    <tr>\n",
              "      <th>317</th>\n",
              "      <td>317</td>\n",
              "      <td>40115</td>\n",
              "      <td>13</td>\n",
              "      <td>319</td>\n",
              "      <td>18</td>\n",
              "      <td>0.530</td>\n",
              "      <td>3</td>\n",
              "      <td>111</td>\n",
              "      <td>0.323508</td>\n",
              "      <td>1.818794</td>\n",
              "      <td>...</td>\n",
              "      <td>20.780488</td>\n",
              "      <td>0.518191</td>\n",
              "      <td>3408</td>\n",
              "      <td>4311</td>\n",
              "      <td>10.225171</td>\n",
              "      <td>0.522160</td>\n",
              "      <td>1</td>\n",
              "      <td>3</td>\n",
              "      <td>1</td>\n",
              "      <td>0</td>\n",
              "    </tr>\n",
              "    <tr>\n",
              "      <th>318</th>\n",
              "      <td>318</td>\n",
              "      <td>40127</td>\n",
              "      <td>14</td>\n",
              "      <td>319</td>\n",
              "      <td>24</td>\n",
              "      <td>0.534</td>\n",
              "      <td>3</td>\n",
              "      <td>114</td>\n",
              "      <td>0.126515</td>\n",
              "      <td>1.814604</td>\n",
              "      <td>...</td>\n",
              "      <td>20.536585</td>\n",
              "      <td>0.527005</td>\n",
              "      <td>3368</td>\n",
              "      <td>2123</td>\n",
              "      <td>-3.727678</td>\n",
              "      <td>0.534074</td>\n",
              "      <td>1</td>\n",
              "      <td>3</td>\n",
              "      <td>1</td>\n",
              "      <td>0</td>\n",
              "    </tr>\n",
              "  </tbody>\n",
              "</table>\n",
              "<p>319 rows × 23 columns</p>\n",
              "</div>\n",
              "      <button class=\"colab-df-convert\" onclick=\"convertToInteractive('df-6e3c392a-faa7-4c6d-b880-5ab62d52fff3')\"\n",
              "              title=\"Convert this dataframe to an interactive table.\"\n",
              "              style=\"display:none;\">\n",
              "        \n",
              "  <svg xmlns=\"http://www.w3.org/2000/svg\" height=\"24px\"viewBox=\"0 0 24 24\"\n",
              "       width=\"24px\">\n",
              "    <path d=\"M0 0h24v24H0V0z\" fill=\"none\"/>\n",
              "    <path d=\"M18.56 5.44l.94 2.06.94-2.06 2.06-.94-2.06-.94-.94-2.06-.94 2.06-2.06.94zm-11 1L8.5 8.5l.94-2.06 2.06-.94-2.06-.94L8.5 2.5l-.94 2.06-2.06.94zm10 10l.94 2.06.94-2.06 2.06-.94-2.06-.94-.94-2.06-.94 2.06-2.06.94z\"/><path d=\"M17.41 7.96l-1.37-1.37c-.4-.4-.92-.59-1.43-.59-.52 0-1.04.2-1.43.59L10.3 9.45l-7.72 7.72c-.78.78-.78 2.05 0 2.83L4 21.41c.39.39.9.59 1.41.59.51 0 1.02-.2 1.41-.59l7.78-7.78 2.81-2.81c.8-.78.8-2.07 0-2.86zM5.41 20L4 18.59l7.72-7.72 1.47 1.35L5.41 20z\"/>\n",
              "  </svg>\n",
              "      </button>\n",
              "      \n",
              "  <style>\n",
              "    .colab-df-container {\n",
              "      display:flex;\n",
              "      flex-wrap:wrap;\n",
              "      gap: 12px;\n",
              "    }\n",
              "\n",
              "    .colab-df-convert {\n",
              "      background-color: #E8F0FE;\n",
              "      border: none;\n",
              "      border-radius: 50%;\n",
              "      cursor: pointer;\n",
              "      display: none;\n",
              "      fill: #1967D2;\n",
              "      height: 32px;\n",
              "      padding: 0 0 0 0;\n",
              "      width: 32px;\n",
              "    }\n",
              "\n",
              "    .colab-df-convert:hover {\n",
              "      background-color: #E2EBFA;\n",
              "      box-shadow: 0px 1px 2px rgba(60, 64, 67, 0.3), 0px 1px 3px 1px rgba(60, 64, 67, 0.15);\n",
              "      fill: #174EA6;\n",
              "    }\n",
              "\n",
              "    [theme=dark] .colab-df-convert {\n",
              "      background-color: #3B4455;\n",
              "      fill: #D2E3FC;\n",
              "    }\n",
              "\n",
              "    [theme=dark] .colab-df-convert:hover {\n",
              "      background-color: #434B5C;\n",
              "      box-shadow: 0px 1px 3px 1px rgba(0, 0, 0, 0.15);\n",
              "      filter: drop-shadow(0px 1px 2px rgba(0, 0, 0, 0.3));\n",
              "      fill: #FFFFFF;\n",
              "    }\n",
              "  </style>\n",
              "\n",
              "      <script>\n",
              "        const buttonEl =\n",
              "          document.querySelector('#df-6e3c392a-faa7-4c6d-b880-5ab62d52fff3 button.colab-df-convert');\n",
              "        buttonEl.style.display =\n",
              "          google.colab.kernel.accessAllowed ? 'block' : 'none';\n",
              "\n",
              "        async function convertToInteractive(key) {\n",
              "          const element = document.querySelector('#df-6e3c392a-faa7-4c6d-b880-5ab62d52fff3');\n",
              "          const dataTable =\n",
              "            await google.colab.kernel.invokeFunction('convertToInteractive',\n",
              "                                                     [key], {});\n",
              "          if (!dataTable) return;\n",
              "\n",
              "          const docLinkHtml = 'Like what you see? Visit the ' +\n",
              "            '<a target=\"_blank\" href=https://colab.research.google.com/notebooks/data_table.ipynb>data table notebook</a>'\n",
              "            + ' to learn more about interactive tables.';\n",
              "          element.innerHTML = '';\n",
              "          dataTable['output_type'] = 'display_data';\n",
              "          await google.colab.output.renderOutput(dataTable, element);\n",
              "          const docLink = document.createElement('div');\n",
              "          docLink.innerHTML = docLinkHtml;\n",
              "          element.appendChild(docLink);\n",
              "        }\n",
              "      </script>\n",
              "    </div>\n",
              "  </div>\n",
              "  "
            ]
          },
          "metadata": {},
          "execution_count": 100
        }
      ]
    },
    {
      "cell_type": "code",
      "source": [
        "#UCLA Subjects\n",
        "df_filtered=df[df['Subject'] < 30000]\n",
        "df=df_filtered"
      ],
      "metadata": {
        "id": "HONL3dqzqzCR"
      },
      "execution_count": null,
      "outputs": []
    },
    {
      "cell_type": "markdown",
      "source": [
        "# Cleaing and preprocessing "
      ],
      "metadata": {
        "id": "dDXUk6o9V4rk"
      }
    },
    {
      "cell_type": "code",
      "source": [
        "non_unique=list()\n",
        "for column in df:\n",
        "    if(len(pd.unique(df[column]))==1):\n",
        "        non_unique.append(column)\n",
        "\n",
        "non_unique"
      ],
      "metadata": {
        "id": "YoqXadJFBrFX",
        "colab": {
          "base_uri": "https://localhost:8080/"
        },
        "outputId": "67d7c43e-8c8d-4f27-c0b9-6848804b0bb7"
      },
      "execution_count": null,
      "outputs": [
        {
          "output_type": "execute_result",
          "data": {
            "text/plain": [
              "['Approx Max Independent Sets',\n",
              " 'Bridges',\n",
              " 'Connected Components',\n",
              " 'Diameter',\n",
              " '3 Edge Connected']"
            ]
          },
          "metadata": {},
          "execution_count": 102
        }
      ]
    },
    {
      "cell_type": "code",
      "source": [
        "df=df.drop(non_unique, axis=1)"
      ],
      "metadata": {
        "id": "yX3kis6iBzxW"
      },
      "execution_count": null,
      "outputs": []
    },
    {
      "cell_type": "code",
      "source": [
        "X = df.drop('Schizophrenic', axis=1)\n",
        "X = X.drop('Subject', axis=1)\n",
        "y = df['Schizophrenic']"
      ],
      "metadata": {
        "id": "ApjLa-S0gXd1"
      },
      "execution_count": null,
      "outputs": []
    },
    {
      "cell_type": "code",
      "source": [
        "pipe = Pipeline([('standardscaler',StandardScaler()),('norm',Normalizer())])\n",
        "model = pipe.fit(X,y)"
      ],
      "metadata": {
        "id": "k_xsVuQqEJvu"
      },
      "execution_count": null,
      "outputs": []
    },
    {
      "cell_type": "code",
      "source": [
        "X_train, X_test, y_train, y_test = train_test_split(X, y, test_size=0.20)"
      ],
      "metadata": {
        "id": "Q99nbHGojY3h"
      },
      "execution_count": null,
      "outputs": []
    },
    {
      "cell_type": "markdown",
      "source": [
        "# ML Models"
      ],
      "metadata": {
        "id": "NMslZchpV-oK"
      }
    },
    {
      "cell_type": "code",
      "source": [
        "#best depth: max_depth=6\n",
        "clf1 = DecisionTreeClassifier(criterion=\"entropy\", class_weight={0:122, 1:50})\n",
        "#best k -> 2 \n",
        "clf2 = KNeighborsClassifier(n_neighbors=3 )\n",
        "clf3 = SVC(kernel=\"poly\", degree=4,class_weight={0:122, 1:50})\n",
        "clf4=LogisticRegression(class_weight={0:122, 1:50})\n",
        "clf5=RandomForestClassifier(n_estimators=500, criterion=\"entropy\", max_features=\"log2\", class_weight={0:122, 1:50})\n",
        "clf6=GradientBoostingClassifier(n_estimators = 300, max_features=\"log2\", max_depth=7)\n",
        "clf7=AdaBoostClassifier(n_estimators=200)\n",
        "\n",
        "clf1.fit(X_train, y_train)\n",
        "clf2.fit(X_train, y_train)\n",
        "clf3.fit(X_train, y_train)\n",
        "clf4.fit(X_train, y_train)\n",
        "clf5.fit(X_train, y_train)\n",
        "clf6.fit(X_train, y_train)\n",
        "clf7.fit(X_train, y_train)"
      ],
      "metadata": {
        "id": "Cf46uXlgE9Qd",
        "colab": {
          "base_uri": "https://localhost:8080/"
        },
        "outputId": "bcdffe89-e953-401b-a433-42b93485dba5"
      },
      "execution_count": null,
      "outputs": [
        {
          "output_type": "execute_result",
          "data": {
            "text/plain": [
              "AdaBoostClassifier(n_estimators=200)"
            ]
          },
          "metadata": {},
          "execution_count": 109
        }
      ]
    },
    {
      "cell_type": "code",
      "source": [
        "pred = clf2.predict(X_test)\n",
        "print(\"KNN accuracy:\", accuracy_score(y_test, pred)*100)\n",
        "print(confusion_matrix(y_test, pred))\n",
        "print(\"f1 score: \", f1_score(y_test, pred))"
      ],
      "metadata": {
        "id": "mpvaZqKzF6nd",
        "colab": {
          "base_uri": "https://localhost:8080/"
        },
        "outputId": "3c80e76e-7d72-4f64-a0f5-367a8d5081fb"
      },
      "execution_count": null,
      "outputs": [
        {
          "output_type": "stream",
          "name": "stdout",
          "text": [
            "KNN accuracy: 71.42857142857143\n",
            "[[23  3]\n",
            " [ 7  2]]\n",
            "f1 score:  0.2857142857142857\n"
          ]
        }
      ]
    },
    {
      "cell_type": "code",
      "source": [
        "pred = clf3.predict(X_test)\n",
        "print(\"SVM accuracy:\", accuracy_score(y_test, pred)*100)\n",
        "print(confusion_matrix(y_test, pred))\n",
        "print(\"f1 score: \", f1_score(y_test, pred))"
      ],
      "metadata": {
        "id": "3zem9hDpM6VQ",
        "colab": {
          "base_uri": "https://localhost:8080/"
        },
        "outputId": "e13a6fcb-4844-4872-9819-1e6c09430307"
      },
      "execution_count": null,
      "outputs": [
        {
          "output_type": "stream",
          "name": "stdout",
          "text": [
            "SVM accuracy: 71.42857142857143\n",
            "[[25  1]\n",
            " [ 9  0]]\n",
            "f1 score:  0.0\n"
          ]
        }
      ]
    },
    {
      "cell_type": "code",
      "source": [
        "pred = clf4.predict(X_test)\n",
        "print(\"Logistic Regression accuracy:\", accuracy_score(y_test, pred)*100)\n",
        "print(confusion_matrix(y_test, pred))\n",
        "print(\"f1 score: \", f1_score(y_test, pred))"
      ],
      "metadata": {
        "colab": {
          "base_uri": "https://localhost:8080/"
        },
        "id": "v8-XN76mM1FI",
        "outputId": "ef4830e7-476d-4bdf-c310-8b3ef32aa94f"
      },
      "execution_count": null,
      "outputs": [
        {
          "output_type": "stream",
          "name": "stdout",
          "text": [
            "Logistic Regression accuracy: 82.85714285714286\n",
            "[[24  2]\n",
            " [ 4  5]]\n",
            "f1 score:  0.6250000000000001\n"
          ]
        }
      ]
    },
    {
      "cell_type": "code",
      "source": [
        "pred = clf1.predict(X_test)\n",
        "print(\"Decision tree accuracy:\", accuracy_score(y_test, pred)*100)\n",
        "print(confusion_matrix(y_test, pred))\n",
        "print(\"f1 score: \", f1_score(y_test, pred))"
      ],
      "metadata": {
        "colab": {
          "base_uri": "https://localhost:8080/"
        },
        "id": "UYRInVHyV9wB",
        "outputId": "986689eb-836b-4cad-e9ae-52c4ea2b624b"
      },
      "execution_count": null,
      "outputs": [
        {
          "output_type": "stream",
          "name": "stdout",
          "text": [
            "Decision tree accuracy: 88.57142857142857\n",
            "[[23  3]\n",
            " [ 1  8]]\n",
            "f1 score:  0.7999999999999999\n"
          ]
        }
      ]
    },
    {
      "cell_type": "code",
      "source": [
        "pred = clf7.predict(X_test)\n",
        "print(\"AdaBoost :\", accuracy_score(y_test, pred)*100)\n",
        "print(confusion_matrix(y_test, pred))\n",
        "print(\"f1 score: \", f1_score(y_test, pred))"
      ],
      "metadata": {
        "colab": {
          "base_uri": "https://localhost:8080/"
        },
        "id": "Oj5SWUj-xC8P",
        "outputId": "ccecb1b1-9ade-442c-9cd0-67839a4d2963"
      },
      "execution_count": null,
      "outputs": [
        {
          "output_type": "stream",
          "name": "stdout",
          "text": [
            "AdaBoost : 85.71428571428571\n",
            "[[24  2]\n",
            " [ 3  6]]\n",
            "f1 score:  0.7058823529411765\n"
          ]
        }
      ]
    }
  ]
}